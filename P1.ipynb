{
 "cells": [
  {
   "cell_type": "markdown",
   "metadata": {},
   "source": [
    "# **Finding Lane Lines on the Road** \n",
    "***\n",
    "In this project, you will use the tools you learned about in the lesson to identify lane lines on the road.  You can develop your pipeline on a series of individual images, and later apply the result to a video stream (really just a series of images). Check out the video clip \"raw-lines-example.mp4\" (also contained in this repository) to see what the output should look like after using the helper functions below. \n",
    "\n",
    "Once you have a result that looks roughly like \"raw-lines-example.mp4\", you'll need to get creative and try to average and/or extrapolate the line segments you've detected to map out the full extent of the lane lines.  You can see an example of the result you're going for in the video \"P1_example.mp4\".  Ultimately, you would like to draw just one line for the left side of the lane, and one for the right.\n",
    "\n",
    "---\n",
    "Let's have a look at our first image called 'test_images/solidWhiteRight.jpg'.  Run the 2 cells below (hit Shift-Enter or the \"play\" button above) to display the image.\n",
    "\n",
    "**Note** If, at any point, you encounter frozen display windows or other confounding issues, you can always start again with a clean slate by going to the \"Kernel\" menu above and selecting \"Restart & Clear Output\".\n",
    "\n",
    "---"
   ]
  },
  {
   "cell_type": "markdown",
   "metadata": {},
   "source": [
    "**The tools you have are color selection, region of interest selection, grayscaling, Gaussian smoothing, Canny Edge Detection and Hough Tranform line detection.  You  are also free to explore and try other techniques that were not presented in the lesson.  Your goal is piece together a pipeline to detect the line segments in the image, then average/extrapolate them and draw them onto the image for display (as below).  Once you have a working pipeline, try it out on the video stream below.**\n",
    "\n",
    "---\n",
    "\n",
    "<figure>\n",
    " <img src=\"line-segments-example.jpg\" width=\"380\" alt=\"Combined Image\" />\n",
    " <figcaption>\n",
    " <p></p> \n",
    " <p style=\"text-align: center;\"> Your output should look something like this (above) after detecting line segments using the helper functions below </p> \n",
    " </figcaption>\n",
    "</figure>\n",
    " <p></p> \n",
    "<figure>\n",
    " <img src=\"laneLines_thirdPass.jpg\" width=\"380\" alt=\"Combined Image\" />\n",
    " <figcaption>\n",
    " <p></p> \n",
    " <p style=\"text-align: center;\"> Your goal is to connect/average/extrapolate line segments to get output like this</p> \n",
    " </figcaption>\n",
    "</figure>"
   ]
  },
  {
   "cell_type": "code",
   "execution_count": null,
   "metadata": {
    "collapsed": false
   },
   "outputs": [],
   "source": [
    "#importing some useful packages\n",
    "import matplotlib.pyplot as plt\n",
    "import matplotlib.image as mpimg\n",
    "import numpy as np\n",
    "import cv2\n",
    "%matplotlib inline"
   ]
  },
  {
   "cell_type": "code",
   "execution_count": null,
   "metadata": {
    "collapsed": false
   },
   "outputs": [],
   "source": [
    "#reading in an image\n",
    "image = mpimg.imread('test_images/solidWhiteRight.jpg')\n",
    "#printing out some stats and plotting\n",
    "print('This image is:', type(image), 'with dimesions:', image.shape)\n",
    "plt.imshow(image)  #call as plt.imshow(gray, cmap='gray') to show a grayscaled image"
   ]
  },
  {
   "cell_type": "markdown",
   "metadata": {},
   "source": [
    "**Some OpenCV functions (beyond those introduced in the lesson) that might be useful for this project are:**\n",
    "\n",
    "`cv2.inRange()` for color selection  \n",
    "`cv2.fillPoly()` for regions selection  \n",
    "`cv2.line()` to draw lines on an image given endpoints  \n",
    "`cv2.addWeighted()` to coadd / overlay two images\n",
    "`cv2.cvtColor()` to grayscale or change color\n",
    "`cv2.imwrite()` to output images to file  \n",
    "`cv2.bitwise_and()` to apply a mask to an image\n",
    "\n",
    "**Check out the OpenCV documentation to learn about these and discover even more awesome functionality!**"
   ]
  },
  {
   "cell_type": "markdown",
   "metadata": {},
   "source": [
    "Below are some helper functions to help get you started. They should look familiar from the lesson!"
   ]
  },
  {
   "cell_type": "code",
   "execution_count": null,
   "metadata": {
    "collapsed": false
   },
   "outputs": [],
   "source": [
    "import math\n",
    "import operator\n",
    "\n",
    "def grayscale(img):\n",
    "    \"\"\"Applies the Grayscale transform\n",
    "    This will return an image with only one color channel\n",
    "    but NOTE: to see the returned image as grayscale\n",
    "    you should call plt.imshow(gray, cmap='gray')\"\"\"\n",
    "    return cv2.cvtColor(img, cv2.COLOR_RGB2GRAY)\n",
    "    \n",
    "def canny(img, low_threshold, high_threshold):\n",
    "    \"\"\"Applies the Canny transform\"\"\"\n",
    "    return cv2.Canny(img, low_threshold, high_threshold)\n",
    "\n",
    "def gaussian_blur(img, kernel_size):\n",
    "    \"\"\"Applies a Gaussian Noise kernel\"\"\"\n",
    "    return cv2.GaussianBlur(img, (kernel_size, kernel_size), 0)\n",
    "\n",
    "def region_of_interest(img, vertices):\n",
    "    \"\"\"\n",
    "    Applies an image mask.\n",
    "    \n",
    "    Only keeps the region of the image defined by the polygon\n",
    "    formed from `vertices`. The rest of the image is set to black.\n",
    "    \"\"\"\n",
    "    #defining a blank mask to start with\n",
    "    mask = np.zeros_like(img)   \n",
    "    \n",
    "    #defining a 3 channel or 1 channel color to fill the mask with depending on the input image\n",
    "    if len(img.shape) > 2:\n",
    "        channel_count = img.shape[2]  # i.e. 3 or 4 depending on your image\n",
    "        ignore_mask_color = (255,) * channel_count\n",
    "    else:\n",
    "        ignore_mask_color = 255\n",
    "        \n",
    "    #filling pixels inside the polygon defined by \"vertices\" with the fill color    \n",
    "    cv2.fillPoly(mask, vertices, ignore_mask_color)\n",
    "    \n",
    "    #returning the image only where mask pixels are nonzero\n",
    "    masked_image = cv2.bitwise_and(img, mask)\n",
    "    return masked_image\n",
    "\n",
    "\n",
    "def draw_lines(img, lines, color=[255, 0, 0], thickness=2):\n",
    "    \"\"\"\n",
    "    NOTE: this is the function you might want to use as a starting point once you want to \n",
    "    average/extrapolate the line segments you detect to map out the full\n",
    "    extent of the lane (going from the result shown in raw-lines-example.mp4\n",
    "    to that shown in P1_example.mp4).  \n",
    "    \n",
    "    Think about things like separating line segments by their \n",
    "    slope ((y2-y1)/(x2-x1)) to decide which segments are part of the left\n",
    "    line vs. the right line.  Then, you can average the position of each of \n",
    "    the lines and extrapolate to the top and bottom of the lane.\n",
    "    \n",
    "    This function draws `lines` with `color` and `thickness`.    \n",
    "    Lines are drawn on the image inplace (mutates the image).\n",
    "    If you want to make the lines semi-transparent, think about combining\n",
    "    this function with the weighted_img() function below\n",
    "    \"\"\"\n",
    "    color_blue=[0, 0, 255] \n",
    "    #Arrays to hold slopes and lines associated with each side of lane\n",
    "    left_slopes = []\n",
    "    right_slopes = []\n",
    "    left_lines_x = []\n",
    "    left_lines_y = []\n",
    "    right_lines_x = []\n",
    "    right_lines_y = []\n",
    "    left_length = []\n",
    "    right_length = []  \n",
    "\n",
    "    #max left and right length of lines\n",
    "    maxLengthRight = 0\n",
    "    maxLengthLeft = 0\n",
    "    \n",
    "    #Go through each line\n",
    "    #Determine if it is a right or left line\n",
    "    #then interpolate the lane line based on each section of the line\n",
    "    for line in lines:\n",
    "        for x1,y1,x2,y2 in line:\n",
    "            #calculate slope and length of line\n",
    "            slope = (((y2-y1)/(x2-x1)))\n",
    "            length = np.sqrt((x2-x1)*(x2-x1)+(y2-y1)*(y2-y1))\n",
    "                \n",
    "            #Find left line\n",
    "            if (slope < -0.2):\n",
    "                left_slopes.append(slope)\n",
    "                left_lines_x.append(x1)\n",
    "                left_lines_x.append(x2)\n",
    "                left_lines_y.append(y1)\n",
    "                left_lines_y.append(y2)\n",
    "                left_length.append(length)\n",
    "            #find right line\n",
    "            if (slope > 0.2):\n",
    "                right_slopes.append(slope)\n",
    "                right_lines_x.append(x1)\n",
    "                right_lines_x.append(x2)\n",
    "                right_lines_y.append(y1)\n",
    "                right_lines_y.append(y2)\n",
    "                right_length.append(length)\n",
    "\n",
    "    #get max slope\n",
    "    #index, value = max(enumerate(left_length), key=operator.itemgetter(1))\n",
    "    #left_slope = left_slopes[index]#np.mean(np.array(right_slopes))\n",
    "    #get average of all slopes\n",
    "    left_slope = np.mean(np.array(left_slopes))               \n",
    "        \n",
    "    #make sure we have valid slopes\n",
    "    if abs(left_slope) > 0.1 and ~np.isinf(left_slope):\n",
    "        lx1 = np.average(left_lines_x)\n",
    "        ly1 = np.average(left_lines_y)\n",
    "        #calculate the interpolcated line and draw it\n",
    "        y_intercept = ly1 -lx1 * left_slope\n",
    "        left_y_min = 0.35 * image.shape[1]\n",
    "        left_y_max = image.shape[1]        \n",
    "        left_top = np.array([(left_y_min-y_intercept)/left_slope, left_y_min])\n",
    "        left_bottom = np.array([(left_y_max-y_intercept)/left_slope, left_y_max])\n",
    "        cv2.line(img, (int(left_top[0]), int(left_top[1])), (int(left_bottom[0]), int(left_bottom[1])), color, thickness*4)\n",
    "    \n",
    "    #get max slope\n",
    "    #index, value = max(enumerate(right_length), key=operator.itemgetter(1))\n",
    "    #right_slope = right_slopes[index]#np.mean(np.array(right_slopes))\n",
    "    #get average of all slopes\n",
    "    right_slope = np.mean(np.array(right_slopes))        \n",
    "             \n",
    "    if abs(right_slope) > 0.1 and ~np.isinf(right_slope):\n",
    "        rx1 = np.average(right_lines_x)\n",
    "        ry1 = np.average(right_lines_y)\n",
    "        #calculate the interpolcated line and draw it\n",
    "        y_intercept = ry1 -rx1 * right_slope\n",
    "        right_y_min = 0.35 * image.shape[1]\n",
    "        right_y_max = image.shape[1]\n",
    "        right_top = np.array([(right_y_min-y_intercept)/right_slope, right_y_min])\n",
    "        right_bottom = np.array([(right_y_max-y_intercept)/right_slope, right_y_max])\n",
    "        cv2.line(img, (int(right_top[0]), int(right_top[1])), (int(right_bottom[0]), int(right_bottom[1])), color, thickness*4)\n",
    "         \n",
    "    #print(len(lines))\n",
    "    return img\n",
    "       \n",
    "    \n",
    "def hough_lines(img, rho, theta, threshold, min_line_len, max_line_gap):\n",
    "    \"\"\"\n",
    "    `img` should be the output of a Canny transform.\n",
    "        \n",
    "    Returns an image with hough lines drawn.\n",
    "    \"\"\"\n",
    "    lines = cv2.HoughLinesP(img, rho, theta, threshold, np.array([]), minLineLength=min_line_len, maxLineGap=max_line_gap)\n",
    "    line_img = np.zeros((*img.shape, 3), dtype=np.uint8)\n",
    "    return line_img, lines\n",
    "\n",
    "# Python 3 has support for cool math symbols.\n",
    "\n",
    "def weighted_img(img, initial_img, a=0.8, ß=1., q=0.):\n",
    "    \"\"\"\n",
    "    `img` is the output of the hough_lines(), An image with lines drawn on it.\n",
    "    Should be a blank image (all black) with lines drawn on it.\n",
    "    \n",
    "    `initial_img` should be the image before any processing.\n",
    "    \n",
    "    The result image is computed as follows:\n",
    "    \n",
    "    initial_img * a + img * ß + ?\n",
    "    NOTE: initial_img and img must be the same shape!\n",
    "    \"\"\"\n",
    "    return cv2.addWeighted(initial_img, a, img, ß, q)"
   ]
  },
  {
   "cell_type": "markdown",
   "metadata": {},
   "source": [
    "## Test on Images\n",
    "\n",
    "Now you should build your pipeline to work on the images in the directory \"test_images\"  \n",
    "**You should make sure your pipeline works well on these images before you try the videos.**"
   ]
  },
  {
   "cell_type": "code",
   "execution_count": null,
   "metadata": {
    "collapsed": false
   },
   "outputs": [],
   "source": [
    "import os, glob\n",
    "os.listdir(\"test_images/\")\n",
    "\n",
    "for file in glob.glob(\"test_images/*.jpg\"):\n",
    "    image = mpimg.imread(file)\n",
    "        \n",
    "    # Convert BGR to HSV\n",
    "    #color_select_image = np.copy(image)\n",
    "    #hsv_image = cv2.cvtColor(color_select_image, cv2.COLOR_RGB2HSV)#, image, 0)\n",
    "    \n",
    "    # define range of yellow and white color in HSV\n",
    "    #lower_yellow = np.array([50, 50, 50], np.uint8)\n",
    "    #upper_yellow = np.array([80, 80, 80], np.uint8)    \n",
    "    #lower_white = np.array([0, 0, 100], np.uint8)\n",
    "    #upper_white = np.array([0, 0, 150], np.uint8)\n",
    "    \n",
    "    # Threshold the HSV image to get only blue colors\n",
    "    #yellow_image = cv2.inRange(hsv_image, lower_yellow , upper_yellow )\n",
    "    #white_image = cv2.inRange(hsv_image, lower_white , upper_white )\n",
    "    #yellow_and_white_image = cv2.bitwise_or(yellow_image,white_image)\n",
    "    \n",
    "    # convert to grayscale\n",
    "    gray_image = grayscale(image)\n",
    "    equ_image = cv2.equalizeHist(gray_image);\n",
    "    gaussian_image = gaussian_blur(equ_image, 3)\n",
    "    ret, black_white_image = cv2.threshold(gaussian_image, 150,255, cv2.THRESH_BINARY)\n",
    "  \n",
    "    #preprocessed image\n",
    "    #color_processed_image = cv2.bitwise_or(equ_image,yellow_and_white_image)\n",
    "    canny_image = canny(black_white_image, 50, 150)\n",
    "        \n",
    "    ysize = image.shape[0]\n",
    "    xsize = image.shape[1]\n",
    "\n",
    "    left_bottom = [0, ysize]\n",
    "    right_bottom = [xsize, ysize]\n",
    "    apex = [xsize/2, ysize/2]\n",
    "    vertices = np.array([[(0,ysize),(xsize*.5,ysize*.6), (xsize*.5,ysize*.6), (xsize,ysize)]], dtype=np.int32)\n",
    "\n",
    "    roi_image = region_of_interest(canny_image, vertices)\n",
    "    rho = 5 # distance resolution in pixels of the Hough grid\n",
    "    theta = np.pi/180 # angular resolution in radians of the Hough grid\n",
    "    threshold = 25     # minimum number of votes (intersections in Hough grid cell)\n",
    "    min_line_len = 50 #minimum number of pixels making up a line\n",
    "    max_line_gap = 50    # maximum gap in pixels between connectable line segments\n",
    "\n",
    "    hough_image, hough_line_list = hough_lines(roi_image, rho, theta, threshold, min_line_len, max_line_gap)\n",
    "    line_image = draw_lines(hough_image, hough_line_list);\n",
    "    result = weighted_img(line_image, image)\n",
    "    filename = 'result_' + file\n",
    "    print(filename)\n",
    "    cv2.imwrite(filename, result)\n",
    "    plt.imshow(result)\n",
    "    \n"
   ]
  },
  {
   "cell_type": "code",
   "execution_count": null,
   "metadata": {
    "collapsed": false
   },
   "outputs": [],
   "source": []
  },
  {
   "cell_type": "markdown",
   "metadata": {},
   "source": [
    "run your solution on all test_images and make copies into the test_images directory)."
   ]
  },
  {
   "cell_type": "markdown",
   "metadata": {},
   "source": [
    "## Test on Videos\n",
    "\n",
    "You know what's cooler than drawing lanes over images? Drawing lanes over video!\n",
    "\n",
    "We can test our solution on two provided videos:\n",
    "\n",
    "`solidWhiteRight.mp4`\n",
    "\n",
    "`solidYellowLeft.mp4`"
   ]
  },
  {
   "cell_type": "code",
   "execution_count": null,
   "metadata": {
    "collapsed": false
   },
   "outputs": [],
   "source": [
    "\n",
    " \n"
   ]
  },
  {
   "cell_type": "code",
   "execution_count": null,
   "metadata": {
    "collapsed": false
   },
   "outputs": [],
   "source": [
    "# Import everything needed to edit/save/watch video clips\n",
    "from moviepy.editor import VideoFileClip\n",
    "from IPython.display import HTML\n",
    "\n",
    "\n",
    "\n"
   ]
  },
  {
   "cell_type": "code",
   "execution_count": null,
   "metadata": {
    "collapsed": true
   },
   "outputs": [],
   "source": [
    "def process_image(image):\n",
    "    # NOTE: The output you return should be a color image (3 channel) for processing video below\n",
    "    # TODO: put your pipeline here,\n",
    "    # you should return the final output (image with lines are drawn on lanes)\n",
    "    left_slope = 0\n",
    "    right_slope = 0\n",
    "    color_select_image = np.copy(image)\n",
    "    \n",
    "    # Convert BGR to HSV\n",
    "    hsv_image = cv2.cvtColor(color_select_image, cv2.COLOR_RGB2HSV)#, image, 0)\n",
    "    \n",
    "    # define range of yellow and white color in HSV\n",
    "    #lower_yellow = np.array([50, 50, 50], np.uint8)\n",
    "    #upper_yellow = np.array([80, 80, 80], np.uint8)    \n",
    "    #lower_white = np.array([0, 0, 100], np.uint8)\n",
    "    #upper_white = np.array([0, 0, 150], np.uint8)\n",
    "    \n",
    "    # Threshold the HSV image to get only blue colors\n",
    "    #yellow_image = cv2.inRange(hsv_image, lower_yellow , upper_yellow )\n",
    "    #white_image = cv2.inRange(hsv_image, lower_white , upper_white )\n",
    "    #yellow_and_white_image = cv2.bitwise_or(yellow_image,white_image)\n",
    "    \n",
    "    # convert to grayscale\n",
    "    gray_image = grayscale(image)\n",
    "    equ_image = cv2.equalizeHist(gray_image);\n",
    "    gaussian_image = gaussian_blur(equ_image, 3)\n",
    "    ret, black_white_image = cv2.threshold(gaussian_image, 150,255, cv2.THRESH_BINARY)\n",
    "    #plt.imshow(black_white_image, cmap=\"Greys_r\")\n",
    "        \n",
    "    #preprocessed image\n",
    "    #color_processed_image = cv2.bitwise_or(equ_image,yellow_and_white_image)\n",
    " \n",
    "    canny_image = canny(black_white_image, 50, 150)\n",
    "    \n",
    "    ysize = image.shape[0]\n",
    "    xsize = image.shape[1]\n",
    "\n",
    "    left_bottom = [0, ysize]\n",
    "    right_bottom = [xsize, ysize]\n",
    "    apex = [xsize/2, ysize/2]\n",
    "    vertices = np.array([[(0,ysize),(xsize*.5,ysize*.55), (xsize*.5,ysize*.55), (xsize,ysize)]], dtype=np.int32)\n",
    "\n",
    "    roi_image = region_of_interest(canny_image, vertices)\n",
    "    rho = 5 # distance resolution in pixels of the Hough grid\n",
    "    theta = np.pi/180 # angular resolution in radians of the Hough grid\n",
    "    threshold = 60     # minimum number of votes (intersections in Hough grid cell)\n",
    "    min_line_len = 100 #minimum number of pixels making up a line\n",
    "    max_line_gap = 60    # maximum gap in pixels between connectable line segments\n",
    "\n",
    "    hough_image, hough_line_list = hough_lines(roi_image, rho, theta, threshold, min_line_len, max_line_gap)\n",
    "    line_image = draw_lines(hough_image, hough_line_list);\n",
    "    result = weighted_img(line_image, image)\n",
    "    #backtorgb = cv2.cvtColor(roi_image,cv2.COLOR_GRAY2BGR)\n",
    "    #result = weighted_img(line_image, backtorgb)\n",
    "    #plt.imshow(line_image)\n",
    "\n",
    "    return result"
   ]
  },
  {
   "cell_type": "markdown",
   "metadata": {},
   "source": [
    "Let's try the one with the solid white lane on the right first ..."
   ]
  },
  {
   "cell_type": "code",
   "execution_count": null,
   "metadata": {
    "collapsed": false,
    "scrolled": true
   },
   "outputs": [],
   "source": [
    "white_output = 'white.mp4'\n",
    "clip1 = VideoFileClip(\"solidWhiteRight.mp4\")\n",
    "white_clip = clip1.fl_image(process_image) #NOTE: this function expects color images!!\n",
    "%time white_clip.write_videofile(white_output, audio=False)"
   ]
  },
  {
   "cell_type": "markdown",
   "metadata": {},
   "source": [
    "Play the video inline, or if you prefer find the video in your filesystem (should be in the same directory) and play it in your video player of choice."
   ]
  },
  {
   "cell_type": "code",
   "execution_count": null,
   "metadata": {
    "collapsed": false,
    "scrolled": true
   },
   "outputs": [],
   "source": [
    "HTML(\"\"\"\n",
    "<video width=\"960\" height=\"540\" controls>\n",
    "  <source src=\"{0}\">\n",
    "</video>\n",
    "\"\"\".format(white_output))"
   ]
  },
  {
   "cell_type": "markdown",
   "metadata": {},
   "source": [
    "**At this point, if you were successful you probably have the Hough line segments drawn onto the road, but what about identifying the full extent of the lane and marking it clearly as in the example video (P1_example.mp4)?  Think about defining a line to run the full length of the visible lane based on the line segments you identified with the Hough Transform.  Modify your draw_lines function accordingly and try re-running your pipeline.**"
   ]
  },
  {
   "cell_type": "markdown",
   "metadata": {},
   "source": [
    "Now for the one with the solid yellow lane on the left. This one's more tricky!"
   ]
  },
  {
   "cell_type": "code",
   "execution_count": null,
   "metadata": {
    "collapsed": false,
    "scrolled": true
   },
   "outputs": [],
   "source": [
    "yellow_output = 'yellow.mp4'\n",
    "clip2 = VideoFileClip('solidYellowLeft.mp4')\n",
    "yellow_clip = clip2.fl_image(process_image)\n",
    "%time yellow_clip.write_videofile(yellow_output, audio=False)"
   ]
  },
  {
   "cell_type": "code",
   "execution_count": null,
   "metadata": {
    "collapsed": false,
    "scrolled": true
   },
   "outputs": [],
   "source": [
    "HTML(\"\"\"\n",
    "<video width=\"960\" height=\"540\" controls>\n",
    "  <source src=\"{0}\">\n",
    "</video>\n",
    "\"\"\".format(yellow_output))"
   ]
  },
  {
   "cell_type": "markdown",
   "metadata": {},
   "source": [
    "## Reflections\n",
    "\n",
    "Congratulations on finding the lane lines!  As the final step in this project, we would like you to share your thoughts on your lane finding pipeline... specifically, how could you imagine making your algorithm better / more robust?  Where will your current algorithm be likely to fail?\n",
    "\n",
    "Please add your thoughts below,  and if you're up for making your pipeline more robust, be sure to scroll down and check out the optional challenge video below!\n",
    "\n",
    "Denise's comments:\n",
    "\n",
    "In order to improve the algorithm, the following could be done:\n",
    "\n",
    "-Parameters should be set based on a learning algorithm.  Right now, all parameters were set empirically are only work with a small set of data\n",
    "\n",
    "-Parameters could be specific to the environment.  Instead of parameters that cover all criteria, select the parameters based on the environemt.  That may mean there are different parameters for different lighting conditions (day, night, overcast) or for highway versus city streets.\n",
    "\n",
    "-When identifying lines (or other items in the scene) take into account the position of those items in the previous frame. Since we know what direction the car is moving, we can estimate where the objects should be in the next frame.\n",
    "\n",
    "-Instead of assuming lane lines are straight lines, allow them to be curved and look for contours instead of straight lines.  \n"
   ]
  },
  {
   "cell_type": "markdown",
   "metadata": {},
   "source": [
    "## Submission\n",
    "\n",
    "If you're satisfied with your video outputs it's time to submit!  Submit this ipython notebook for review.\n"
   ]
  },
  {
   "cell_type": "markdown",
   "metadata": {
    "collapsed": true
   },
   "source": [
    "## Optional Challenge\n",
    "\n",
    "Try your lane finding pipeline on the video below.  Does it still work?  Can you figure out a way to make it more robust?  If you're up for the challenge, modify your pipeline so it works with this video and submit it along with the rest of your project!"
   ]
  },
  {
   "cell_type": "code",
   "execution_count": null,
   "metadata": {
    "collapsed": false
   },
   "outputs": [],
   "source": [
    "challenge_output = 'extra.mp4'\n",
    "clip2 = VideoFileClip('challenge.mp4')\n",
    "challenge_clip = clip2.fl_image(process_image)\n",
    "%time challenge_clip.write_videofile(challenge_output, audio=False)"
   ]
  },
  {
   "cell_type": "code",
   "execution_count": null,
   "metadata": {
    "collapsed": false
   },
   "outputs": [],
   "source": [
    "HTML(\"\"\"\n",
    "<video width=\"960\" height=\"540\" controls>\n",
    "  <source src=\"{0}\">\n",
    "</video>\n",
    "\"\"\".format(challenge_output))"
   ]
  },
  {
   "cell_type": "code",
   "execution_count": null,
   "metadata": {
    "collapsed": true
   },
   "outputs": [],
   "source": []
  },
  {
   "cell_type": "code",
   "execution_count": null,
   "metadata": {
    "collapsed": true
   },
   "outputs": [],
   "source": []
  },
  {
   "cell_type": "code",
   "execution_count": null,
   "metadata": {
    "collapsed": true
   },
   "outputs": [],
   "source": []
  }
 ],
 "metadata": {
  "anaconda-cloud": {},
  "kernelspec": {
   "display_name": "Python 3",
   "language": "python",
   "name": "python3"
  },
  "language_info": {
   "codemirror_mode": {
    "name": "ipython",
    "version": 3
   },
   "file_extension": ".py",
   "mimetype": "text/x-python",
   "name": "python",
   "nbconvert_exporter": "python",
   "pygments_lexer": "ipython3",
   "version": "3.5.2"
  }
 },
 "nbformat": 4,
 "nbformat_minor": 0
}
